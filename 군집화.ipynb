{
  "nbformat": 4,
  "nbformat_minor": 0,
  "metadata": {
    "colab": {
      "provenance": [],
      "authorship_tag": "ABX9TyN+m5iLzabDOQhH9Nshdcze",
      "include_colab_link": true
    },
    "kernelspec": {
      "name": "python3",
      "display_name": "Python 3"
    },
    "language_info": {
      "name": "python"
    }
  },
  "cells": [
    {
      "cell_type": "markdown",
      "metadata": {
        "id": "view-in-github",
        "colab_type": "text"
      },
      "source": [
        "<a href=\"https://colab.research.google.com/github/ara42/Machine-Learning/blob/main/%EA%B5%B0%EC%A7%91%ED%99%94.ipynb\" target=\"_parent\"><img src=\"https://colab.research.google.com/assets/colab-badge.svg\" alt=\"Open In Colab\"/></a>"
      ]
    },
    {
      "cell_type": "code",
      "execution_count": 1,
      "metadata": {
        "id": "kbZx7j9LFZGx"
      },
      "outputs": [],
      "source": [
        "def distance(x1,x2):\n",
        "    return sum((x1-x2)**2)**(1/2)"
      ]
    },
    {
      "cell_type": "code",
      "source": [
        "import numpy as np"
      ],
      "metadata": {
        "id": "90Fto6hXIkZW"
      },
      "execution_count": 2,
      "outputs": []
    },
    {
      "cell_type": "code",
      "source": [
        "na1 = np.array([1,2])\n",
        "na2 = np.array([5,5])\n",
        "print(distance(na1,na2))"
      ],
      "metadata": {
        "colab": {
          "base_uri": "https://localhost:8080/"
        },
        "id": "KVPn5RmzIloX",
        "outputId": "3214cd1f-6aa7-4e09-b14a-de512a66b1da"
      },
      "execution_count": 3,
      "outputs": [
        {
          "output_type": "stream",
          "name": "stdout",
          "text": [
            "5.0\n"
          ]
        }
      ]
    },
    {
      "cell_type": "code",
      "source": [
        "import matplotlib.pyplot as plt\n",
        "import pandas as pd\n",
        "import numpy as np"
      ],
      "metadata": {
        "id": "WL97ui_yIsgn"
      },
      "execution_count": 4,
      "outputs": []
    },
    {
      "cell_type": "code",
      "source": [
        "def kmeans(data,k=3):\n",
        "    #초기에 k개의 중심저을 구하라\n",
        "    cis = np.random.choice(range(len(data)),k)\n",
        "    centers = np.random.choice(data,k)\n",
        "    cs = {} #클러스터 사전\n",
        "    #반복\n",
        "    while True:\n",
        "        cs = {} #클러스터 사전\n",
        "\n",
        "        #모든 데이터를 k개의 중심점에서 거리를 계산한다.\n",
        "        for d in data:\n",
        "            dis = np.array([distance(d,center) for center in centers])\n",
        "            ai = np.argmin(dis) #최소 거리의 인덱스\n",
        "\n",
        "            #가장 가까운 중심점에 속한 그룹에 속하게 한다.\n",
        "            if ai not in cs: #이미 존재하는 그룹일 때\n",
        "                cs[ai] = [] #새로운 그룹을 사전에 생성하여 보관\n",
        "            cs[ai].append(d) #해당 그룹에 데이터를 속하게 한다.\n",
        "\n",
        "        #새로운 중심점을 계산한다.\n",
        "        ncenters = []\n",
        "        for i in range(k):\n",
        "            xdata = [x for x,_ in cs[i]]\n",
        "            ydata = [x for x,_ in cs[i]]\n",
        "            ncenters.append(xdata.mean(), ydata.mean())\n",
        "\n",
        "        #조건(기존 중심점과 새로운 중심점이 같으면)\n",
        "        if np.array_equal(centers,ncenters):\n",
        "            break #반복문을 탈출하시오.\n",
        "        centers = ncenters\n",
        "    return cs"
      ],
      "metadata": {
        "id": "jOHwqR-yJIoZ"
      },
      "execution_count": 5,
      "outputs": []
    },
    {
      "cell_type": "code",
      "source": [
        "n = 100\n",
        "data = np.array([[np.random.randint(0,100), np.random.randint(0,100)] for _ in range(n)])\n",
        "plt.plot(data[:,0],data[:,1],'.')\n",
        "plt.show()"
      ],
      "metadata": {
        "colab": {
          "base_uri": "https://localhost:8080/",
          "height": 430
        },
        "id": "89iQHEgVNrng",
        "outputId": "e990309f-15a2-4779-bb47-691593716108"
      },
      "execution_count": 9,
      "outputs": [
        {
          "output_type": "display_data",
          "data": {
            "text/plain": [
              "<Figure size 640x480 with 1 Axes>"
            ],
            "image/png": "[encoded data removed]"
          },
          "metadata": {}
        }
      ]
    },
    {
      "cell_type": "code",
      "source": [
        "from sklearn.datasets import load_iris\n",
        "from sklearn.cluster import KMeans"
      ],
      "metadata": {
        "id": "h0xng8DYOorj"
      },
      "execution_count": 11,
      "outputs": []
    },
    {
      "cell_type": "code",
      "source": [
        "iris = load_iris()\n",
        "data = iris.data\n",
        "label = iris.target"
      ],
      "metadata": {
        "id": "GGLPGSdeUP1U"
      },
      "execution_count": 12,
      "outputs": []
    },
    {
      "cell_type": "code",
      "source": [
        "model = KMeans(n_clusters=3)\n",
        "model.fit(data)\n",
        "print(model.labels_)"
      ],
      "metadata": {
        "colab": {
          "base_uri": "https://localhost:8080/"
        },
        "id": "7Wy7ukTZUWVO",
        "outputId": "2a1dec4a-77cd-421a-9325-b27affdc15c4"
      },
      "execution_count": 13,
      "outputs": [
        {
          "output_type": "stream",
          "name": "stdout",
          "text": [
            "[1 1 1 1 1 1 1 1 1 1 1 1 1 1 1 1 1 1 1 1 1 1 1 1 1 1 1 1 1 1 1 1 1 1 1 1 1\n",
            " 1 1 1 1 1 1 1 1 1 1 1 1 1 0 0 2 0 0 0 0 0 0 0 0 0 0 0 0 0 0 0 0 0 0 0 0 0\n",
            " 0 0 0 2 0 0 0 0 0 0 0 0 0 0 0 0 0 0 0 0 0 0 0 0 0 0 2 0 2 2 2 2 0 2 2 2 2\n",
            " 2 2 0 0 2 2 2 2 0 2 0 2 0 2 2 0 0 2 2 2 2 2 0 2 2 2 2 0 2 2 2 0 2 2 2 0 2\n",
            " 2 0]\n"
          ]
        },
        {
          "output_type": "stream",
          "name": "stderr",
          "text": [
            "/usr/local/lib/python3.10/dist-packages/sklearn/cluster/_kmeans.py:870: FutureWarning: The default value of `n_init` will change from 10 to 'auto' in 1.4. Set the value of `n_init` explicitly to suppress the warning\n",
            "  warnings.warn(\n"
          ]
        }
      ]
    },
    {
      "cell_type": "code",
      "source": [
        "np.unique()"
      ],
      "metadata": {
        "id": "VZqJ0Dn7UhkF"
      },
      "execution_count": null,
      "outputs": []
    },
    {
      "cell_type": "code",
      "source": [
        "df = pd.DataFrame()\n",
        "df['target'] = label\n",
        "df['label'] = model.labels_"
      ],
      "metadata": {
        "id": "EnooHDP1Vf06"
      },
      "execution_count": 14,
      "outputs": []
    },
    {
      "cell_type": "code",
      "source": [
        "df.groupby(['target','label'])['label'].count()"
      ],
      "metadata": {
        "colab": {
          "base_uri": "https://localhost:8080/"
        },
        "id": "xBlyP-jeVmNF",
        "outputId": "11c9ffb1-693d-4d99-b569-211d318fcd24"
      },
      "execution_count": 15,
      "outputs": [
        {
          "output_type": "execute_result",
          "data": {
            "text/plain": [
              "target  label\n",
              "0       1        50\n",
              "1       0        48\n",
              "        2         2\n",
              "2       0        14\n",
              "        2        36\n",
              "Name: label, dtype: int64"
            ]
          },
          "metadata": {},
          "execution_count": 15
        }
      ]
    },
    {
      "cell_type": "code",
      "source": [
        "from sklearn.datasets import make_blobs"
      ],
      "metadata": {
        "id": "d2DdlGSkXUsh"
      },
      "execution_count": 19,
      "outputs": []
    },
    {
      "cell_type": "code",
      "source": [
        "data,label = make_blobs(n_samples=200, n_features=2, centers=3)"
      ],
      "metadata": {
        "id": "UL-DsfIhVtYx"
      },
      "execution_count": 20,
      "outputs": []
    },
    {
      "cell_type": "code",
      "source": [
        "data.shape, label.shape"
      ],
      "metadata": {
        "colab": {
          "base_uri": "https://localhost:8080/"
        },
        "id": "QT6FNXEhXK1H",
        "outputId": "a4d46ed0-1c95-4a5c-b717-1a84ace7181d"
      },
      "execution_count": 21,
      "outputs": [
        {
          "output_type": "execute_result",
          "data": {
            "text/plain": [
              "((200, 2), (200,))"
            ]
          },
          "metadata": {},
          "execution_count": 21
        }
      ]
    },
    {
      "cell_type": "code",
      "source": [
        "np.unique(label,return_counts=True)"
      ],
      "metadata": {
        "colab": {
          "base_uri": "https://localhost:8080/"
        },
        "id": "ri_cuETiXPnB",
        "outputId": "ed112a36-091f-4b87-ffb4-21d97784e606"
      },
      "execution_count": 22,
      "outputs": [
        {
          "output_type": "execute_result",
          "data": {
            "text/plain": [
              "(array([0, 1, 2]), array([67, 67, 66]))"
            ]
          },
          "metadata": {},
          "execution_count": 22
        }
      ]
    },
    {
      "cell_type": "code",
      "source": [
        "df = pd.DataFrame(data,columns=['f1','f2'])\n",
        "df['target'] = label\n",
        "df['label'] = model.labels_\n",
        "df.groupby(['target','label'])['label'].count()"
      ],
      "metadata": {
        "colab": {
          "base_uri": "https://localhost:8080/"
        },
        "id": "ObCXOSIAXj1Z",
        "outputId": "c0f24330-beca-4e27-e064-b2a22d9676e7"
      },
      "execution_count": 35,
      "outputs": [
        {
          "output_type": "execute_result",
          "data": {
            "text/plain": [
              "target  label\n",
              "0       2        67\n",
              "1       0        67\n",
              "2       1        66\n",
              "Name: label, dtype: int64"
            ]
          },
          "metadata": {},
          "execution_count": 35
        }
      ]
    },
    {
      "cell_type": "code",
      "source": [
        "markers = ['^','s','o']\n",
        "for i, marker in enumerate(markers):\n",
        "    f_i = df['label'] == i #품종별로 필터링\n",
        "    df_i = df[f_i] #특정 품종만 추출\n",
        "    plt.scatter(df_i['f1'],df_i['f2'],marker=marker)\n",
        "plt.show()"
      ],
      "metadata": {
        "colab": {
          "base_uri": "https://localhost:8080/",
          "height": 430
        },
        "id": "KA_87fsxXqin",
        "outputId": "d3eb0105-a5e0-43d4-a45c-9449e4c2af41"
      },
      "execution_count": 36,
      "outputs": [
        {
          "output_type": "display_data",
          "data": {
            "text/plain": [
              "<Figure size 640x480 with 1 Axes>"
            ],
            "image/png": "[encoded data removed]"
          },
          "metadata": {}
        }
      ]
    },
    {
      "cell_type": "code",
      "source": [
        "model = KMeans(n_clusters=3)\n",
        "model.fit(data)\n",
        "print(model.labels_)\n",
        "print(label)"
      ],
      "metadata": {
        "colab": {
          "base_uri": "https://localhost:8080/"
        },
        "id": "6ZeVSZm0aEot",
        "outputId": "62e5b3c9-d7b1-4206-cb21-6eb0365cc337"
      },
      "execution_count": 26,
      "outputs": [
        {
          "output_type": "stream",
          "name": "stdout",
          "text": [
            "[1 2 2 0 1 1 2 1 2 2 0 2 0 0 1 0 2 1 0 2 0 0 2 1 0 2 2 2 2 2 2 1 2 1 0 2 0\n",
            " 2 2 2 1 0 0 2 0 2 0 1 2 1 2 2 1 0 1 0 1 2 0 1 1 0 0 0 0 0 1 2 0 0 1 2 2 2\n",
            " 2 1 1 1 2 0 1 0 2 0 1 0 0 2 2 0 0 0 2 1 0 0 1 2 2 0 2 2 2 2 2 2 1 1 0 2 0\n",
            " 0 1 0 2 1 2 0 2 0 1 2 1 2 1 0 2 1 1 0 1 2 0 1 0 2 2 1 0 1 1 2 0 0 1 1 1 1\n",
            " 1 1 1 1 0 0 1 1 1 1 2 0 0 1 0 1 1 2 0 2 0 1 2 0 1 0 2 0 2 0 2 2 2 0 2 1 1\n",
            " 0 2 1 0 1 0 1 1 1 1 0 1 0 0 2]\n",
            "[2 0 0 1 2 2 0 2 0 0 1 0 1 1 2 1 0 2 1 0 1 1 0 2 1 0 0 0 0 0 0 2 0 2 1 0 1\n",
            " 0 0 0 2 1 1 0 1 0 1 2 0 2 0 0 2 1 2 1 2 0 1 2 2 1 1 1 1 1 2 0 1 1 2 0 0 0\n",
            " 0 2 2 2 0 1 2 1 0 1 2 1 1 0 0 1 1 1 0 2 1 1 2 0 0 1 0 0 0 0 0 0 2 2 1 0 1\n",
            " 1 2 1 0 2 0 1 0 1 2 0 2 0 2 1 0 2 2 1 2 0 1 2 1 0 0 2 1 2 2 0 1 1 2 2 2 2\n",
            " 2 2 2 2 1 1 2 2 2 2 0 1 1 2 1 2 2 0 1 0 1 2 0 1 2 1 0 1 0 1 0 0 0 1 0 2 2\n",
            " 1 0 2 1 2 1 2 2 2 2 1 2 1 1 0]\n"
          ]
        },
        {
          "output_type": "stream",
          "name": "stderr",
          "text": [
            "/usr/local/lib/python3.10/dist-packages/sklearn/cluster/_kmeans.py:870: FutureWarning: The default value of `n_init` will change from 10 to 'auto' in 1.4. Set the value of `n_init` explicitly to suppress the warning\n",
            "  warnings.warn(\n"
          ]
        }
      ]
    },
    {
      "cell_type": "code",
      "source": [
        "df = pd.DataFrame(data,columns=['f1','f2'])\n",
        "df['target'] = label\n",
        "df['label'] = model.labels_\n",
        "df.groupby(['target','label'])['label'].count()"
      ],
      "metadata": {
        "colab": {
          "base_uri": "https://localhost:8080/"
        },
        "id": "ZQ0TZP6oY7-q",
        "outputId": "9f10778d-524c-4f3a-8726-1ad7a53d3c03"
      },
      "execution_count": 33,
      "outputs": [
        {
          "output_type": "execute_result",
          "data": {
            "text/plain": [
              "target  label\n",
              "0       2        67\n",
              "1       0        67\n",
              "2       1        66\n",
              "Name: label, dtype: int64"
            ]
          },
          "metadata": {},
          "execution_count": 33
        }
      ]
    },
    {
      "cell_type": "code",
      "source": [
        "markers =['^','s','o']\n",
        "colors = ['r','g','b']\n",
        "c_colors = ['g','b','r']\n",
        "_,axes = plt.subplots(ncols=2,figsize=(8,4))\n",
        "for i,marker in enumerate(markers):\n",
        "    f_i = df['label']==i\n",
        "    df_i = df[f_i]\n",
        "    axes[0].scatter(df_i['f1'],df_i['f2'],marker=marker,color=colors[i])\n",
        "    center = model.cluster_centers_[i]\n",
        "    axes[0].plot(center[0],center[1],color=c_colors[i],marker='.')\n",
        "\n",
        "    f_i = df['target']==i\n",
        "    df_i = df[f_i]\n",
        "    axes[1].scatter(df_i['f1'],df_i['f2'],marker=marker,color=colors[i])\n",
        "    center = model.cluster_centers_[i]\n",
        "    axes[1].plot(center[0],center[1],color=c_colors[i],marker='.')\n",
        "\n",
        "plt.show()"
      ],
      "metadata": {
        "colab": {
          "base_uri": "https://localhost:8080/",
          "height": 368
        },
        "id": "Zx9MQ_LhZXT5",
        "outputId": "95526da5-7c2b-4175-86fc-dd2522695d2a"
      },
      "execution_count": 40,
      "outputs": [
        {
          "output_type": "display_data",
          "data": {
            "text/plain": [
              "<Figure size 800x400 with 2 Axes>"
            ],
            "image/png": "[encoded data removed]"
          },
          "metadata": {}
        }
      ]
    },
    {
      "cell_type": "code",
      "source": [
        "from sklearn.metrics import silhouette_score, silhouette_samples"
      ],
      "metadata": {
        "id": "Pdrl_XffauNj"
      },
      "execution_count": 41,
      "outputs": []
    },
    {
      "cell_type": "code",
      "source": [
        "data = iris.data\n",
        "label = iris.target\n",
        "ss = silhouette_samples(data,label)\n",
        "ss.mean()"
      ],
      "metadata": {
        "colab": {
          "base_uri": "https://localhost:8080/"
        },
        "id": "1LRKs1f6j12Z",
        "outputId": "41d98b53-3d97-4160-94de-3ca73aa27cb0"
      },
      "execution_count": 46,
      "outputs": [
        {
          "output_type": "execute_result",
          "data": {
            "text/plain": [
              "0.5034774406932961"
            ]
          },
          "metadata": {},
          "execution_count": 46
        }
      ]
    },
    {
      "cell_type": "code",
      "source": [
        "model = KMeans(n_clusters=3)\n",
        "model.fit(data)\n",
        "ss2 = silhouette_samples(data,model.labels_)\n",
        "ss2.mean()"
      ],
      "metadata": {
        "colab": {
          "base_uri": "https://localhost:8080/"
        },
        "id": "3epSAUlFktqA",
        "outputId": "4e391ccc-0ba8-4c4a-e9e2-f191fc185529"
      },
      "execution_count": 47,
      "outputs": [
        {
          "output_type": "stream",
          "name": "stderr",
          "text": [
            "/usr/local/lib/python3.10/dist-packages/sklearn/cluster/_kmeans.py:870: FutureWarning: The default value of `n_init` will change from 10 to 'auto' in 1.4. Set the value of `n_init` explicitly to suppress the warning\n",
            "  warnings.warn(\n"
          ]
        },
        {
          "output_type": "execute_result",
          "data": {
            "text/plain": [
              "0.5528190123564095"
            ]
          },
          "metadata": {},
          "execution_count": 47
        }
      ]
    },
    {
      "cell_type": "code",
      "source": [
        "df = pd.DataFrame(data,columns=iris.feature_names)\n",
        "df['target'] = label\n",
        "df['label'] = model.labels_\n",
        "df['ss_t'] = ss\n",
        "df['ss_l'] = ss2"
      ],
      "metadata": {
        "id": "sGwzlKktk9Lm"
      },
      "execution_count": 48,
      "outputs": []
    },
    {
      "cell_type": "code",
      "source": [
        "df.groupby('label')['ss_l'].mean()"
      ],
      "metadata": {
        "colab": {
          "base_uri": "https://localhost:8080/"
        },
        "id": "KXWiTKZilLIQ",
        "outputId": "95f65df2-065d-462f-adbd-480ea4f0ce6e"
      },
      "execution_count": 49,
      "outputs": [
        {
          "output_type": "execute_result",
          "data": {
            "text/plain": [
              "label\n",
              "0    0.417320\n",
              "1    0.798140\n",
              "2    0.451105\n",
              "Name: ss_l, dtype: float64"
            ]
          },
          "metadata": {},
          "execution_count": 49
        }
      ]
    },
    {
      "cell_type": "code",
      "source": [],
      "metadata": {
        "id": "3H9cxGHfmFl5"
      },
      "execution_count": null,
      "outputs": []
    }
  ]
}