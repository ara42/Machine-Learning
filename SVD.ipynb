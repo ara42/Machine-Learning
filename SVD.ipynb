{
  "nbformat": 4,
  "nbformat_minor": 0,
  "metadata": {
    "colab": {
      "provenance": [],
      "authorship_tag": "ABX9TyMy+YUqFQgJCjbb16fWi2nc",
      "include_colab_link": true
    },
    "kernelspec": {
      "name": "python3",
      "display_name": "Python 3"
    },
    "language_info": {
      "name": "python"
    }
  },
  "cells": [
    {
      "cell_type": "markdown",
      "metadata": {
        "id": "view-in-github",
        "colab_type": "text"
      },
      "source": [
        "<a href=\"https://colab.research.google.com/github/ara42/Machine-Learning/blob/main/SVD.ipynb\" target=\"_parent\"><img src=\"https://colab.research.google.com/assets/colab-badge.svg\" alt=\"Open In Colab\"/></a>"
      ]
    },
    {
      "cell_type": "code",
      "source": [
        "import random"
      ],
      "metadata": {
        "id": "S5ClCnn9tPMG"
      },
      "execution_count": 12,
      "outputs": []
    },
    {
      "cell_type": "code",
      "execution_count": 23,
      "metadata": {
        "id": "7-LKBT_7sTNK"
      },
      "outputs": [],
      "source": [
        "import pandas as pd\n",
        "import numpy as np\n",
        "import matplotlib.pyplot as plt\n",
        "from numpy.linalg import svd"
      ]
    },
    {
      "cell_type": "code",
      "source": [
        "for _ in range(4):\n",
        "    np.random.seed(121) #랜덤 발생을 위한 씨앗 값 설정\n",
        "    for _ in range(10):\n",
        "        print(np.random.randint(1,10),end=' ')\n",
        "    print()"
      ],
      "metadata": {
        "colab": {
          "base_uri": "https://localhost:8080/"
        },
        "id": "kHm7cGDes8pT",
        "outputId": "fe32ee62-bc9b-4485-a221-9e5d6d2565f7"
      },
      "execution_count": 11,
      "outputs": [
        {
          "output_type": "stream",
          "name": "stdout",
          "text": [
            "3 6 9 5 2 5 4 1 3 5 \n",
            "3 6 9 5 2 5 4 1 3 5 \n",
            "3 6 9 5 2 5 4 1 3 5 \n",
            "3 6 9 5 2 5 4 1 3 5 \n"
          ]
        }
      ]
    },
    {
      "cell_type": "code",
      "source": [
        "np.random.seed(121)\n",
        "a = np.random.randn(4,4)\n",
        "print(np.round(a,3))"
      ],
      "metadata": {
        "colab": {
          "base_uri": "https://localhost:8080/"
        },
        "id": "KKRVCF-qtJrk",
        "outputId": "7b6e62d5-f5de-46af-9f21-59c89df68d3e"
      },
      "execution_count": 13,
      "outputs": [
        {
          "output_type": "stream",
          "name": "stdout",
          "text": [
            "[[-0.212 -0.285 -0.574 -0.44 ]\n",
            " [-0.33   1.184  1.615  0.367]\n",
            " [-0.014  0.63   1.71  -1.327]\n",
            " [ 0.402 -0.191  1.404 -1.969]]\n"
          ]
        }
      ]
    },
    {
      "cell_type": "code",
      "source": [
        "u,sigma,vt = svd(a)\n",
        "print(a.shape,' -> ',u.shape,sigma.shape,vt.shape)"
      ],
      "metadata": {
        "colab": {
          "base_uri": "https://localhost:8080/"
        },
        "id": "cZ2oROSjukD9",
        "outputId": "fbe4d318-1f91-433f-f298-abb50d39609f"
      },
      "execution_count": 15,
      "outputs": [
        {
          "output_type": "stream",
          "name": "stdout",
          "text": [
            "(4, 4)  ->  (4, 4) (4,) (4, 4)\n"
          ]
        }
      ]
    },
    {
      "cell_type": "code",
      "source": [
        "sm = np.diag(sigma)\n",
        "print(np.round(sm,3))"
      ],
      "metadata": {
        "colab": {
          "base_uri": "https://localhost:8080/"
        },
        "id": "2BUhqEbdutde",
        "outputId": "3caaaf1d-6662-40a7-f785-b19dfc32d9df"
      },
      "execution_count": 21,
      "outputs": [
        {
          "output_type": "stream",
          "name": "stdout",
          "text": [
            "[[3.423 0.    0.    0.   ]\n",
            " [0.    2.023 0.    0.   ]\n",
            " [0.    0.    0.463 0.   ]\n",
            " [0.    0.    0.    0.079]]\n"
          ]
        }
      ]
    },
    {
      "cell_type": "code",
      "source": [
        "a_ = np.dot(np.dot(u,sm),vt)\n",
        "print(np.round(a_,3))"
      ],
      "metadata": {
        "colab": {
          "base_uri": "https://localhost:8080/"
        },
        "id": "0nAiZ0HPu6zI",
        "outputId": "9f9a3035-0cc0-4d6d-e1d1-356b3e6c2308"
      },
      "execution_count": 19,
      "outputs": [
        {
          "output_type": "stream",
          "name": "stdout",
          "text": [
            "[[-0.212 -0.285 -0.574 -0.44 ]\n",
            " [-0.33   1.184  1.615  0.367]\n",
            " [-0.014  0.63   1.71  -1.327]\n",
            " [ 0.402 -0.191  1.404 -1.969]]\n"
          ]
        }
      ]
    },
    {
      "cell_type": "code",
      "source": [
        "from sklearn.datasets import load_iris\n",
        "from sklearn.preprocessing import StandardScaler\n",
        "from sklearn.decomposition import TruncatedSVD"
      ],
      "metadata": {
        "id": "PKbe8972vfnA"
      },
      "execution_count": 22,
      "outputs": []
    },
    {
      "cell_type": "code",
      "source": [
        "iris = load_iris()\n",
        "data = iris.data\n",
        "label = iris.target\n",
        "tsvd = TruncatedSVD(n_components=2)\n",
        "tsvd_data = tsvd.fit_transform(data)"
      ],
      "metadata": {
        "id": "0Y4btXqewiVj"
      },
      "execution_count": 24,
      "outputs": []
    },
    {
      "cell_type": "code",
      "source": [
        "df = pd.DataFrame(tsvd_data,columns=['l1','l2'])\n",
        "df['label']=label\n",
        "markers=['^','s','o']\n",
        "tns = iris.target_names\n",
        "for i, marker in enumerate(markers):\n",
        "  f_i = df['label']==i #품종별로 필터링\n",
        "  df_i = df[f_i] #특정 품종만 추출\n",
        "  x_data = df_i['l1'] #p1컬럼 을 x 데이터로 설정\n",
        "  y_data = df_i['l2'] #p2 컬럼을 y 데이터로 설정\n",
        "  plt.scatter(x_data,y_data,marker=marker,label=tns[i])\n",
        "plt.xlabel('l1')\n",
        "plt.ylabel('l2')\n",
        "plt.legend()\n",
        "plt.show()"
      ],
      "metadata": {
        "colab": {
          "base_uri": "https://localhost:8080/",
          "height": 449
        },
        "id": "z5nRjnT1wx5G",
        "outputId": "373597fe-9b71-4b90-c1c9-a08818643b7c"
      },
      "execution_count": 25,
      "outputs": [
        {
          "output_type": "display_data",
          "data": {
            "text/plain": [
              "<Figure size 640x480 with 1 Axes>"
            ],
            "image/png": "[encoded data removed]"
          },
          "metadata": {}
        }
      ]
    },
    {
      "cell_type": "code",
      "source": [
        "from sklearn.ensemble import RandomForestClassifier\n",
        "from sklearn.model_selection import cross_val_score"
      ],
      "metadata": {
        "id": "ORYpoiFZxiqb"
      },
      "execution_count": 26,
      "outputs": []
    },
    {
      "cell_type": "code",
      "source": [
        "rfc = RandomForestClassifier()\n",
        "s = cross_val_score(rfc,tsvd_data,label,scoring='accuracy',cv=5)\n",
        "print(\"정확도:\",s)\n",
        "print(\"평균:\",s.mean())"
      ],
      "metadata": {
        "colab": {
          "base_uri": "https://localhost:8080/"
        },
        "id": "JMMyB1U2xdaO",
        "outputId": "82f9e915-1a02-4801-d703-1556734607b9"
      },
      "execution_count": 28,
      "outputs": [
        {
          "output_type": "stream",
          "name": "stdout",
          "text": [
            "정확도: [1.         0.96666667 0.96666667 0.96666667 1.        ]\n",
            "평균: 0.9800000000000001\n"
          ]
        }
      ]
    },
    {
      "cell_type": "code",
      "source": [
        "from sklearn.decomposition import PCA"
      ],
      "metadata": {
        "id": "o-gq37BsxpC9"
      },
      "execution_count": 29,
      "outputs": []
    },
    {
      "cell_type": "code",
      "source": [
        "ss = StandardScaler()\n",
        "sd = ss.fit_transform(data)\n",
        "tsvd = TruncatedSVD(n_components=2)\n",
        "tsvd_data = tsvd.fit_transform(sd)\n",
        "pca = PCA(n_components=2)\n",
        "pca_data = pca.fit_transform(sd)"
      ],
      "metadata": {
        "id": "wRJAeSJAx5rq"
      },
      "execution_count": 33,
      "outputs": []
    },
    {
      "cell_type": "code",
      "source": [
        "_,axes = plt.subplots(ncols=2)\n",
        "\n",
        "df1 = pd.DataFrame(tsvd_data,columns=['l1','l2'])\n",
        "x_data = df1['l1'] #p1 컬럼을 x 데이터로 설정\n",
        "y_data = df1['l2'] #p2 컬럼을 y 데이터로 설정\n",
        "axes[0].scatter(x_data,y_data,marker='o')\n",
        "\n",
        "df2 = pd.DataFrame(pca_data,columns=['l1','l2'])\n",
        "x_data = df2['l1'] #p1 컬럼을 x 데이터로 설정\n",
        "y_data = df2['l2'] #p2 컬럼을 y 데이터로 설정\n",
        "axes[1].scatter(x_data,y_data,marker='o')\n",
        "\n",
        "plt.show()"
      ],
      "metadata": {
        "colab": {
          "base_uri": "https://localhost:8080/",
          "height": 430
        },
        "id": "_jjn1Dpyx-qT",
        "outputId": "89604389-4451-47f1-8b73-2defd23e255e"
      },
      "execution_count": 34,
      "outputs": [
        {
          "output_type": "display_data",
          "data": {
            "text/plain": [
              "<Figure size 640x480 with 2 Axes>"
            ],
            "image/png": "[encoded data removed]"
          },
          "metadata": {}
        }
      ]
    }
  ]
}