{
  "nbformat": 4,
  "nbformat_minor": 0,
  "metadata": {
    "colab": {
      "provenance": [],
      "mount_file_id": "1XfZx6eQjr-eQoEfHGpA7cyaLLcMf9RyD",
      "authorship_tag": "ABX9TyMJQ4l0A246mWoq9MUZq16/",
      "include_colab_link": true
    },
    "kernelspec": {
      "name": "python3",
      "display_name": "Python 3"
    },
    "language_info": {
      "name": "python"
    }
  },
  "cells": [
    {
      "cell_type": "markdown",
      "metadata": {
        "id": "view-in-github",
        "colab_type": "text"
      },
      "source": [
        "<a href=\"https://colab.research.google.com/github/ara42/Machine-Learning/blob/main/%EB%A1%9C%EC%A7%80%EC%8A%A4%ED%8B%B1_%ED%9A%8C%EA%B7%80.ipynb\" target=\"_parent\"><img src=\"https://colab.research.google.com/assets/colab-badge.svg\" alt=\"Open In Colab\"/></a>"
      ]
    },
    {
      "cell_type": "code",
      "execution_count": 2,
      "metadata": {
        "id": "bDCovZZZj7JS"
      },
      "outputs": [],
      "source": [
        "import numpy as np\n",
        "import pandas as pd\n",
        "import matplotlib.pyplot as plt"
      ]
    },
    {
      "cell_type": "code",
      "source": [
        "from sklearn.datasets import load_breast_cancer"
      ],
      "metadata": {
        "id": "uGkrh31ykEli"
      },
      "execution_count": 3,
      "outputs": []
    },
    {
      "cell_type": "code",
      "source": [
        "cancer = load_breast_cancer()\n",
        "data = cancer.data\n",
        "label = cancer.target"
      ],
      "metadata": {
        "id": "x6G4WlmKkMsI"
      },
      "execution_count": 7,
      "outputs": []
    },
    {
      "cell_type": "code",
      "source": [
        "from sklearn.preprocessing import StandardScaler"
      ],
      "metadata": {
        "id": "pRX-m_ydkPSi"
      },
      "execution_count": 5,
      "outputs": []
    },
    {
      "cell_type": "code",
      "source": [
        "ss = StandardScaler()\n",
        "scaled_data = ss.fit_transform(data)"
      ],
      "metadata": {
        "id": "UccrGdU5lIe3"
      },
      "execution_count": 8,
      "outputs": []
    },
    {
      "cell_type": "code",
      "source": [
        "from sklearn.model_selection import train_test_split"
      ],
      "metadata": {
        "id": "y7IOxCi1lNXh"
      },
      "execution_count": 9,
      "outputs": []
    },
    {
      "cell_type": "code",
      "source": [
        "x_train,x_test,y_train,y_test = train_test_split(scaled_data,label)"
      ],
      "metadata": {
        "id": "goI6EeOCljex"
      },
      "execution_count": 10,
      "outputs": []
    },
    {
      "cell_type": "code",
      "source": [
        "from sklearn.linear_model import LogisticRegression"
      ],
      "metadata": {
        "id": "qV7JJeiblzhp"
      },
      "execution_count": 11,
      "outputs": []
    },
    {
      "cell_type": "code",
      "source": [
        "model = LogisticRegression()\n",
        "model.fit(x_train,y_train)\n",
        "pred = model.predict(x_test)"
      ],
      "metadata": {
        "id": "WQaD6Q_Al3w-"
      },
      "execution_count": 12,
      "outputs": []
    },
    {
      "cell_type": "code",
      "source": [
        "from sklearn.metrics import accuracy_score, roc_auc_score, recall_score"
      ],
      "metadata": {
        "id": "1Z2n2fWamCh3"
      },
      "execution_count": 13,
      "outputs": []
    },
    {
      "cell_type": "code",
      "source": [
        "print(\"acc : \",accuracy_score(y_test,pred))\n",
        "print(\"roc : \",roc_auc_score(y_test,pred))\n",
        "print(\"rec : \",recall_score(y_test,pred))"
      ],
      "metadata": {
        "colab": {
          "base_uri": "https://localhost:8080/"
        },
        "id": "8fhUMUZ8mKQE",
        "outputId": "8865f7e8-f96a-4894-fa16-ab248d73cf0e"
      },
      "execution_count": 14,
      "outputs": [
        {
          "output_type": "stream",
          "name": "stdout",
          "text": [
            "acc :  0.9790209790209791\n",
            "roc :  0.9741379310344828\n",
            "rec :  1.0\n"
          ]
        }
      ]
    },
    {
      "cell_type": "code",
      "source": [
        "solovers = ['lbfgs',\n",
        "            'liblinear',\n",
        "            'newton-cg',\n",
        "            'newton-cholesky',\n",
        "            'sag',\n",
        "            'saga']\n",
        "for solver in solovers:\n",
        "    model = LogisticRegression(solver=solver, max_iter=600)\n",
        "    model.fit(x_train,y_train)\n",
        "    pred = model.predict(x_test)\n",
        "    print(\"====\",solver,\"====\")\n",
        "    print(\"acc:\",accuracy_score(y_test,pred))\n",
        "    print(\"roc:\",roc_auc_score(y_test,pred))\n",
        "    print(\"rec:\",recall_score(y_test,pred))"
      ],
      "metadata": {
        "colab": {
          "base_uri": "https://localhost:8080/"
        },
        "id": "KX52Z1BumTUk",
        "outputId": "b2860997-ad18-4204-e16d-0f91a10acdc4"
      },
      "execution_count": 16,
      "outputs": [
        {
          "output_type": "stream",
          "name": "stdout",
          "text": [
            "==== lbfgs ====\n",
            "acc: 0.9790209790209791\n",
            "roc: 0.9741379310344828\n",
            "rec: 1.0\n",
            "==== liblinear ====\n",
            "acc: 0.9790209790209791\n",
            "roc: 0.9741379310344828\n",
            "rec: 1.0\n",
            "==== newton-cg ====\n",
            "acc: 0.9790209790209791\n",
            "roc: 0.9741379310344828\n",
            "rec: 1.0\n",
            "==== newton-cholesky ====\n",
            "acc: 0.9790209790209791\n",
            "roc: 0.9741379310344828\n",
            "rec: 1.0\n",
            "==== sag ====\n",
            "acc: 0.9790209790209791\n",
            "roc: 0.9741379310344828\n",
            "rec: 1.0\n",
            "==== saga ====\n",
            "acc: 0.9790209790209791\n",
            "roc: 0.9741379310344828\n",
            "rec: 1.0\n"
          ]
        }
      ]
    },
    {
      "cell_type": "code",
      "source": [
        "from sklearn.model_selection import GridSearchCV"
      ],
      "metadata": {
        "id": "pFQ7-33UvgaU"
      },
      "execution_count": 18,
      "outputs": []
    },
    {
      "cell_type": "code",
      "source": [
        "params = {\n",
        "    'solver':['liblinear','lbfgs'],\n",
        "    'penalty':['l2','l1'],\n",
        "    'C':[0.01,0.1,1,5,10]\n",
        "}"
      ],
      "metadata": {
        "id": "c37SgZ2au1-0"
      },
      "execution_count": 17,
      "outputs": []
    },
    {
      "cell_type": "code",
      "source": [
        "lr = LogisticRegression()\n",
        "gs = GridSearchCV(lr,param_grid=params,scoring='accuracy',cv=3)\n",
        "gs.fit(x_train,y_train)\n",
        "print(gs.best_params_)\n",
        "print(gs.best_score_)"
      ],
      "metadata": {
        "colab": {
          "base_uri": "https://localhost:8080/"
        },
        "id": "JOYgyq9hmtPo",
        "outputId": "ae98d3f0-67e8-442f-ed08-cec4a16373ea"
      },
      "execution_count": 19,
      "outputs": [
        {
          "output_type": "stream",
          "name": "stdout",
          "text": [
            "{'C': 0.1, 'penalty': 'l2', 'solver': 'liblinear'}\n",
            "0.971830985915493\n"
          ]
        },
        {
          "output_type": "stream",
          "name": "stderr",
          "text": [
            "/usr/local/lib/python3.10/dist-packages/sklearn/model_selection/_validation.py:378: FitFailedWarning: \n",
            "15 fits failed out of a total of 60.\n",
            "The score on these train-test partitions for these parameters will be set to nan.\n",
            "If these failures are not expected, you can try to debug them by setting error_score='raise'.\n",
            "\n",
            "Below are more details about the failures:\n",
            "--------------------------------------------------------------------------------\n",
            "15 fits failed with the following error:\n",
            "Traceback (most recent call last):\n",
            "  File \"/usr/local/lib/python3.10/dist-packages/sklearn/model_selection/_validation.py\", line 686, in _fit_and_score\n",
            "    estimator.fit(X_train, y_train, **fit_params)\n",
            "  File \"/usr/local/lib/python3.10/dist-packages/sklearn/linear_model/_logistic.py\", line 1162, in fit\n",
            "    solver = _check_solver(self.solver, self.penalty, self.dual)\n",
            "  File \"/usr/local/lib/python3.10/dist-packages/sklearn/linear_model/_logistic.py\", line 54, in _check_solver\n",
            "    raise ValueError(\n",
            "ValueError: Solver lbfgs supports only 'l2' or 'none' penalties, got l1 penalty.\n",
            "\n",
            "  warnings.warn(some_fits_failed_message, FitFailedWarning)\n",
            "/usr/local/lib/python3.10/dist-packages/sklearn/model_selection/_search.py:952: UserWarning: One or more of the test scores are non-finite: [0.96244131 0.93896714 0.89671362        nan 0.97183099 0.96713615\n",
            " 0.9600939         nan 0.97183099 0.96713615 0.96948357        nan\n",
            " 0.96713615 0.96478873 0.96244131        nan 0.96244131 0.9600939\n",
            " 0.96244131        nan]\n",
            "  warnings.warn(\n"
          ]
        }
      ]
    },
    {
      "cell_type": "code",
      "source": [
        "pred = gs.predict(x_test)\n",
        "print(\"acc:\",accuracy_score(y_test,pred))\n",
        "print(\"roc:\",roc_auc_score(y_test,pred))\n",
        "print(\"rec:\",recall_score(y_test,pred))"
      ],
      "metadata": {
        "colab": {
          "base_uri": "https://localhost:8080/"
        },
        "id": "FzvE6Tl0vpQj",
        "outputId": "ea89e4e9-87ce-4c5d-85c2-6041b5aafef5"
      },
      "execution_count": 20,
      "outputs": [
        {
          "output_type": "stream",
          "name": "stdout",
          "text": [
            "acc: 0.972027972027972\n",
            "roc: 0.9655172413793103\n",
            "rec: 1.0\n"
          ]
        }
      ]
    },
    {
      "cell_type": "code",
      "source": [
        "from sklearn.ensemble import RandomForestRegressor\n",
        "from sklearn.model_selection import cross_val_score"
      ],
      "metadata": {
        "id": "9QOF92wOxEBS"
      },
      "execution_count": 22,
      "outputs": []
    },
    {
      "cell_type": "code",
      "source": [
        "cross_val_score,\n",
        "model = RandomForestRegressor(n_estimators=1000)\n",
        "nmse = cross_val_score(model, x_train, y_train,\n",
        "                       scoring='neg_mean_squared_error',\n",
        "                       cv=5)"
      ],
      "metadata": {
        "id": "qKuvSxbty6jC"
      },
      "execution_count": 25,
      "outputs": []
    },
    {
      "cell_type": "code",
      "source": [
        "print(\"neg mse : \",nmse)\n",
        "print(\"mse : \",-1*nmse)\n",
        "print(\"rmse : \",np.sqrt(-1*nmse))\n",
        "print(\"rmse 평균 : \",np.sqrt(-1*nmse).mean())"
      ],
      "metadata": {
        "colab": {
          "base_uri": "https://localhost:8080/"
        },
        "id": "vPKnozIhz3lw",
        "outputId": "9000c2df-a5c3-48d9-bcd8-a06b93cd667e"
      },
      "execution_count": 27,
      "outputs": [
        {
          "output_type": "stream",
          "name": "stdout",
          "text": [
            "neg mse :  [-0.03716217 -0.02480682 -0.08305146 -0.01797572 -0.04183874]\n",
            "mse :  [0.03716217 0.02480682 0.08305146 0.01797572 0.04183874]\n",
            "rmse :  [0.19277493 0.15750182 0.2881865  0.13407355 0.20454521]\n",
            "rmse 평균 :  0.19541640232899776\n"
          ]
        }
      ]
    },
    {
      "cell_type": "markdown",
      "source": [
        "## boston_house 데이터 이용"
      ],
      "metadata": {
        "id": "MhhPbqkl8Etk"
      }
    },
    {
      "cell_type": "code",
      "source": [
        "path = '/content/drive/MyDrive/Colab Notebooks/Machine-Learning/boston_house.csv'\n",
        "df = pd.read_csv(path)\n",
        "data = df.drop('Target',axis=1)\n",
        "label = df['Target']\n",
        "ss = StandardScaler()\n",
        "scaled_data = ss.fit_transform(data)\n",
        "x_train,x_test,y_train,y_test = train_test_split(scaled_data,label)"
      ],
      "metadata": {
        "id": "lQTpgPyK7jFT"
      },
      "execution_count": 36,
      "outputs": []
    },
    {
      "cell_type": "code",
      "source": [
        "from sklearn.tree import DecisionTreeRegressor\n",
        "from sklearn.ensemble import GradientBoostingRegressor\n",
        "from xgboost import XGBRegressor\n",
        "from lightgbm import LGBMRegressor"
      ],
      "metadata": {
        "id": "rKZZ9vZjzVPD"
      },
      "execution_count": 28,
      "outputs": []
    },
    {
      "cell_type": "code",
      "source": [
        "m1 = DecisionTreeRegressor(max_depth=4)\n",
        "m2 = RandomForestRegressor(n_estimators=1000)\n",
        "m3 = GradientBoostingRegressor(n_estimators=1000)\n",
        "m4 = XGBRegressor(n_estimators=1000)\n",
        "m5 = LGBMRegressor(n_estimators=1000)"
      ],
      "metadata": {
        "id": "Tq28Idq8zvjw"
      },
      "execution_count": 37,
      "outputs": []
    },
    {
      "cell_type": "code",
      "source": [
        "models = [m1, m2, m3, m4, m5]\n",
        "for model in models:\n",
        "    print(model.__class__.__name__,\"$$$$$$$$$$$$$$$$$$$$$$\")\n",
        "    nmse = cross_val_score(model, x_train, y_train,\n",
        "                       scoring='neg_mean_squared_error',\n",
        "                       cv=5)\n",
        "    print(\"rmse 평균 : \",np.sqrt(-1*nmse).mean())"
      ],
      "metadata": {
        "colab": {
          "base_uri": "https://localhost:8080/"
        },
        "id": "tBs-GbkG1gL-",
        "outputId": "8923ddf7-dd52-46fc-b745-a2a0b087bae0"
      },
      "execution_count": 38,
      "outputs": [
        {
          "output_type": "stream",
          "name": "stdout",
          "text": [
            "DecisionTreeRegressor $$$$$$$$$$$$$$$$$$$$$$\n",
            "rmse 평균 :  4.637714976486723\n",
            "RandomForestRegressor $$$$$$$$$$$$$$$$$$$$$$\n",
            "rmse 평균 :  3.531179062129257\n",
            "GradientBoostingRegressor $$$$$$$$$$$$$$$$$$$$$$\n",
            "rmse 평균 :  3.210782022736885\n",
            "XGBRegressor $$$$$$$$$$$$$$$$$$$$$$\n",
            "rmse 평균 :  3.540139519567017\n",
            "LGBMRegressor $$$$$$$$$$$$$$$$$$$$$$\n",
            "rmse 평균 :  3.5423521680510204\n"
          ]
        }
      ]
    },
    {
      "cell_type": "code",
      "source": [
        "model = DecisionTreeRegressor(max_depth=4)\n",
        "model.fit(x_train,y_train)\n",
        "model.feature_importances_"
      ],
      "metadata": {
        "colab": {
          "base_uri": "https://localhost:8080/"
        },
        "id": "E8a0xupZ2ANs",
        "outputId": "97473452-d70a-423f-e2c2-3f4abe240ae0"
      },
      "execution_count": 39,
      "outputs": [
        {
          "output_type": "execute_result",
          "data": {
            "text/plain": [
              "array([0.        , 0.        , 0.68417822, 0.04297635, 0.04023813,\n",
              "       0.        , 0.17552551, 0.02791148, 0.02567937, 0.        ,\n",
              "       0.        , 0.00349094, 0.        ])"
            ]
          },
          "metadata": {},
          "execution_count": 39
        }
      ]
    },
    {
      "cell_type": "code",
      "source": [
        "sd = pd.Series(model.feature_importances_,index=data.columns)\n",
        "sd = sd.sort_values(ascending=False)\n",
        "sd"
      ],
      "metadata": {
        "colab": {
          "base_uri": "https://localhost:8080/"
        },
        "id": "3lmP6xkT7bzS",
        "outputId": "abe3fa8f-d94e-4ea1-b87c-25fffe7e13b2"
      },
      "execution_count": 40,
      "outputs": [
        {
          "output_type": "execute_result",
          "data": {
            "text/plain": [
              "RM         0.684178\n",
              "LSTAT      0.175526\n",
              "CRIM       0.042976\n",
              "DIS        0.040238\n",
              "NOX        0.027911\n",
              "PTRATIO    0.025679\n",
              "TAX        0.003491\n",
              "AGE        0.000000\n",
              "B          0.000000\n",
              "INDUS      0.000000\n",
              "RAD        0.000000\n",
              "ZN         0.000000\n",
              "CHAS       0.000000\n",
              "dtype: float64"
            ]
          },
          "metadata": {},
          "execution_count": 40
        }
      ]
    },
    {
      "cell_type": "code",
      "source": [
        "import seaborn as sns"
      ],
      "metadata": {
        "id": "ysKTFCQF6eb7"
      },
      "execution_count": 41,
      "outputs": []
    },
    {
      "cell_type": "code",
      "source": [
        "sns.barplot(x=sd,y=sd.index)\n",
        "plt.show()"
      ],
      "metadata": {
        "colab": {
          "base_uri": "https://localhost:8080/",
          "height": 430
        },
        "id": "PEuQ0qLj9MxK",
        "outputId": "fcd46066-ea8f-4ce7-b68e-98a54fa5e3ba"
      },
      "execution_count": 44,
      "outputs": [
        {
          "output_type": "display_data",
          "data": {
            "text/plain": [
              "<Figure size 640x480 with 1 Axes>"
            ],
            "image/png": "[encoded data removed]"
          },
          "metadata": {}
        }
      ]
    },
    {
      "cell_type": "code",
      "source": [
        "plt.plot(data.DIS,label,'r.')\n",
        "plt.show()"
      ],
      "metadata": {
        "colab": {
          "base_uri": "https://localhost:8080/",
          "height": 430
        },
        "id": "oET6cNcF9RBu",
        "outputId": "24c21641-7089-4458-9142-5d3421036329"
      },
      "execution_count": 45,
      "outputs": [
        {
          "output_type": "display_data",
          "data": {
            "text/plain": [
              "<Figure size 640x480 with 1 Axes>"
            ],
            "image/png": "[encoded data removed]"
          },
          "metadata": {}
        }
      ]
    },
    {
      "cell_type": "code",
      "source": [
        "from sklearn.linear_model import LinearRegression"
      ],
      "metadata": {
        "id": "H64enfAb-V_0"
      },
      "execution_count": 46,
      "outputs": []
    },
    {
      "cell_type": "code",
      "source": [
        "lr_reg = LinearRegression()\n",
        "rf_reg2 = DecisionTreeRegressor(max_depth=2)\n",
        "rf_reg7 = DecisionTreeRegressor(max_depth=7)"
      ],
      "metadata": {
        "id": "rj-X49J1_LWw"
      },
      "execution_count": 47,
      "outputs": []
    },
    {
      "cell_type": "code",
      "source": [
        "x_test = np.arange(4.5,8.5,0.04).reshape(-1,1)\n",
        "x_feature = df['RM'].values.reshape(-1,1)\n",
        "y_target = df['Target'].values.reshape(-1,1)"
      ],
      "metadata": {
        "id": "3cbSN1zA_dZf"
      },
      "execution_count": 49,
      "outputs": []
    },
    {
      "cell_type": "code",
      "source": [
        "lr_reg.fit(x_feature,y_target)\n",
        "rf_reg2.fit(x_feature,y_target)\n",
        "rf_reg7.fit(x_feature,y_target)"
      ],
      "metadata": {
        "colab": {
          "base_uri": "https://localhost:8080/",
          "height": 74
        },
        "id": "cXWxrQU-_ffd",
        "outputId": "1b127473-c56c-4487-e29e-679f47d539ac"
      },
      "execution_count": 50,
      "outputs": [
        {
          "output_type": "execute_result",
          "data": {
            "text/plain": [
              "DecisionTreeRegressor(max_depth=7)"
            ],
            "text/html": [
              "<style>#sk-container-id-1 {color: black;background-color: white;}#sk-container-id-1 pre{padding: 0;}#sk-container-id-1 div.sk-toggleable {background-color: white;}#sk-container-id-1 label.sk-toggleable__label {cursor: pointer;display: block;width: 100%;margin-bottom: 0;padding: 0.3em;box-sizing: border-box;text-align: center;}#sk-container-id-1 label.sk-toggleable__label-arrow:before {content: \"▸\";float: left;margin-right: 0.25em;color: #696969;}#sk-container-id-1 label.sk-toggleable__label-arrow:hover:before {color: black;}#sk-container-id-1 div.sk-estimator:hover label.sk-toggleable__label-arrow:before {color: black;}#sk-container-id-1 div.sk-toggleable__content {max-height: 0;max-width: 0;overflow: hidden;text-align: left;background-color: #f0f8ff;}#sk-container-id-1 div.sk-toggleable__content pre {margin: 0.2em;color: black;border-radius: 0.25em;background-color: #f0f8ff;}#sk-container-id-1 input.sk-toggleable__control:checked~div.sk-toggleable__content {max-height: 200px;max-width: 100%;overflow: auto;}#sk-container-id-1 input.sk-toggleable__control:checked~label.sk-toggleable__label-arrow:before {content: \"▾\";}#sk-container-id-1 div.sk-estimator input.sk-toggleable__control:checked~label.sk-toggleable__label {background-color: #d4ebff;}#sk-container-id-1 div.sk-label input.sk-toggleable__control:checked~label.sk-toggleable__label {background-color: #d4ebff;}#sk-container-id-1 input.sk-hidden--visually {border: 0;clip: rect(1px 1px 1px 1px);clip: rect(1px, 1px, 1px, 1px);height: 1px;margin: -1px;overflow: hidden;padding: 0;position: absolute;width: 1px;}#sk-container-id-1 div.sk-estimator {font-family: monospace;background-color: #f0f8ff;border: 1px dotted black;border-radius: 0.25em;box-sizing: border-box;margin-bottom: 0.5em;}#sk-container-id-1 div.sk-estimator:hover {background-color: #d4ebff;}#sk-container-id-1 div.sk-parallel-item::after {content: \"\";width: 100%;border-bottom: 1px solid gray;flex-grow: 1;}#sk-container-id-1 div.sk-label:hover label.sk-toggleable__label {background-color: #d4ebff;}#sk-container-id-1 div.sk-serial::before {content: \"\";position: absolute;border-left: 1px solid gray;box-sizing: border-box;top: 0;bottom: 0;left: 50%;z-index: 0;}#sk-container-id-1 div.sk-serial {display: flex;flex-direction: column;align-items: center;background-color: white;padding-right: 0.2em;padding-left: 0.2em;position: relative;}#sk-container-id-1 div.sk-item {position: relative;z-index: 1;}#sk-container-id-1 div.sk-parallel {display: flex;align-items: stretch;justify-content: center;background-color: white;position: relative;}#sk-container-id-1 div.sk-item::before, #sk-container-id-1 div.sk-parallel-item::before {content: \"\";position: absolute;border-left: 1px solid gray;box-sizing: border-box;top: 0;bottom: 0;left: 50%;z-index: -1;}#sk-container-id-1 div.sk-parallel-item {display: flex;flex-direction: column;z-index: 1;position: relative;background-color: white;}#sk-container-id-1 div.sk-parallel-item:first-child::after {align-self: flex-end;width: 50%;}#sk-container-id-1 div.sk-parallel-item:last-child::after {align-self: flex-start;width: 50%;}#sk-container-id-1 div.sk-parallel-item:only-child::after {width: 0;}#sk-container-id-1 div.sk-dashed-wrapped {border: 1px dashed gray;margin: 0 0.4em 0.5em 0.4em;box-sizing: border-box;padding-bottom: 0.4em;background-color: white;}#sk-container-id-1 div.sk-label label {font-family: monospace;font-weight: bold;display: inline-block;line-height: 1.2em;}#sk-container-id-1 div.sk-label-container {text-align: center;}#sk-container-id-1 div.sk-container {/* jupyter's `normalize.less` sets `[hidden] { display: none; }` but bootstrap.min.css set `[hidden] { display: none !important; }` so we also need the `!important` here to be able to override the default hidden behavior on the sphinx rendered scikit-learn.org. See: https://github.com/scikit-learn/scikit-learn/issues/21755 */display: inline-block !important;position: relative;}#sk-container-id-1 div.sk-text-repr-fallback {display: none;}</style><div id=\"sk-container-id-1\" class=\"sk-top-container\"><div class=\"sk-text-repr-fallback\"><pre>DecisionTreeRegressor(max_depth=7)</pre><b>In a Jupyter environment, please rerun this cell to show the HTML representation or trust the notebook. <br />On GitHub, the HTML representation is unable to render, please try loading this page with nbviewer.org.</b></div><div class=\"sk-container\" hidden><div class=\"sk-item\"><div class=\"sk-estimator sk-toggleable\"><input class=\"sk-toggleable__control sk-hidden--visually\" id=\"sk-estimator-id-1\" type=\"checkbox\" checked><label for=\"sk-estimator-id-1\" class=\"sk-toggleable__label sk-toggleable__label-arrow\">DecisionTreeRegressor</label><div class=\"sk-toggleable__content\"><pre>DecisionTreeRegressor(max_depth=7)</pre></div></div></div></div></div>"
            ]
          },
          "metadata": {},
          "execution_count": 50
        }
      ]
    },
    {
      "cell_type": "code",
      "source": [
        "pred_lr = lr_reg.predict(x_test)\n",
        "pred_rf2 = rf_reg2.predict(x_test)\n",
        "pred_rf7 = rf_reg7.predict(x_test)"
      ],
      "metadata": {
        "id": "D9oqSwns_o1W"
      },
      "execution_count": 51,
      "outputs": []
    },
    {
      "cell_type": "code",
      "source": [
        "fig,axes = plt.subplots(figsize=(15,4),ncols=3)\n",
        "ax1,ax2,ax3 = axes\n",
        "\n",
        "ax1.set_title('LinearRegression')\n",
        "ax1.scatter(df.RM, df.Target, c='darkorange')\n",
        "ax1.plot(x_test,pred_lr,label='linear',linewidth=2)\n",
        "\n",
        "ax2.set_title('DecisionTreeRegressor(max_depth=2)')\n",
        "ax2.scatter(df.RM, df.Target, c='darkorange')\n",
        "ax2.plot(x_test,pred_rf2,label='max_depth:2',linewidth=2)\n",
        "\n",
        "ax3.set_title('DecisionTreeRegressor(max_depth=7)')\n",
        "ax3.scatter(df.RM, df.Target, c='darkorange')\n",
        "ax3.plot(x_test,pred_rf7,label='max_depth:7',linewidth=2)\n",
        "\n",
        "plt.show()"
      ],
      "metadata": {
        "colab": {
          "base_uri": "https://localhost:8080/",
          "height": 279
        },
        "id": "lfdw_Ulx_rG2",
        "outputId": "23b70dd2-81f8-4876-d476-969e14d36c8e"
      },
      "execution_count": 54,
      "outputs": [
        {
          "output_type": "display_data",
          "data": {
            "text/plain": [
              "<Figure size 1500x400 with 3 Axes>"
            ],
            "image/png": "[encoded data removed]"
          },
          "metadata": {}
        }
      ]
    },
    {
      "cell_type": "code",
      "source": [],
      "metadata": {
        "id": "7_wnGL9Z_y17"
      },
      "execution_count": null,
      "outputs": []
    }
  ]
}