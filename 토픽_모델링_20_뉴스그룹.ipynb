{
  "nbformat": 4,
  "nbformat_minor": 0,
  "metadata": {
    "colab": {
      "provenance": [],
      "authorship_tag": "ABX9TyO8ueNNUV6Zu7CGsnKRc4cz",
      "include_colab_link": true
    },
    "kernelspec": {
      "name": "python3",
      "display_name": "Python 3"
    },
    "language_info": {
      "name": "python"
    }
  },
  "cells": [
    {
      "cell_type": "markdown",
      "metadata": {
        "id": "view-in-github",
        "colab_type": "text"
      },
      "source": [
        "<a href=\"https://colab.research.google.com/github/ara42/Machine-Learning/blob/main/%ED%86%A0%ED%94%BD_%EB%AA%A8%EB%8D%B8%EB%A7%81_20_%EB%89%B4%EC%8A%A4%EA%B7%B8%EB%A3%B9.ipynb\" target=\"_parent\"><img src=\"https://colab.research.google.com/assets/colab-badge.svg\" alt=\"Open In Colab\"/></a>"
      ]
    },
    {
      "cell_type": "code",
      "source": [
        "import pandas as pd\n",
        "import numpy as np\n",
        "import matplotlib.pyplot as plt\n",
        "import seaborn as sns"
      ],
      "metadata": {
        "id": "0bVAozHIoqPn"
      },
      "execution_count": 13,
      "outputs": []
    },
    {
      "cell_type": "code",
      "execution_count": 2,
      "metadata": {
        "id": "mfsJyinuLKr_"
      },
      "outputs": [],
      "source": [
        "from sklearn.datasets import fetch_20newsgroups\n",
        "from sklearn.feature_extraction.text import CountVectorizer\n",
        "from sklearn.decomposition import LatentDirichletAllocation"
      ]
    },
    {
      "cell_type": "code",
      "source": [
        "cats = ['rec.motorcycles','rec.sport.baseball',\n",
        "        'comp.graphics','comp.windows.x',\n",
        "        'talk.politics.mideast',\n",
        "        'soc.religion.christian',\n",
        "        'sci.electronics','sci.med']"
      ],
      "metadata": {
        "id": "D_6YL975LLsD"
      },
      "execution_count": 25,
      "outputs": []
    },
    {
      "cell_type": "code",
      "source": [
        "news = fetch_20newsgroups(subset='all',\n",
        "                          remove=('header','footer','quotes'),\n",
        "                          categories=cats)"
      ],
      "metadata": {
        "id": "CE7bt9wXL0k3"
      },
      "execution_count": 26,
      "outputs": []
    },
    {
      "cell_type": "code",
      "source": [
        "cv = CountVectorizer(max_df=0.95,\n",
        "                     max_features=1000,\n",
        "                     min_df=0.005,\n",
        "                     stop_words='english',\n",
        "                     ngram_range=(1,2))\n",
        "cv_data = cv.fit_transform(news.data)\n",
        "cv_data.shape"
      ],
      "metadata": {
        "colab": {
          "base_uri": "https://localhost:8080/"
        },
        "id": "StMvpf9_MxQ1",
        "outputId": "8053e66a-5ae0-4b95-f8de-34e81d794861"
      },
      "execution_count": 27,
      "outputs": [
        {
          "output_type": "execute_result",
          "data": {
            "text/plain": [
              "(7862, 1000)"
            ]
          },
          "metadata": {},
          "execution_count": 27
        }
      ]
    },
    {
      "cell_type": "code",
      "source": [
        "news.data[0]"
      ],
      "metadata": {
        "colab": {
          "base_uri": "https://localhost:8080/",
          "height": 126
        },
        "id": "qoV8EAGWN86W",
        "outputId": "b1502a6c-10bd-49d4-d1a1-4f5c4a04f42a"
      },
      "execution_count": 28,
      "outputs": [
        {
          "output_type": "execute_result",
          "data": {
            "text/plain": [
              "'From: gpatapis@boyd.tansu.com.au (George Patapis)\\nSubject: Re: DESQview/X on a PC?\\nOrganization: AOTC - CSSC\\nLines: 42\\nDistribution: world\\nReply-To: gpatapis@boyd.tansu.com.au\\nNNTP-Posting-Host: boyd.cssc-syd.tansu.com.au\\n\\n\\nWhat sort of traffic is generated with the X-calls?  I am curious to find\\nout the required bandwidth that a link must have  if one machine running\\nDV/X is supporting multiple users (clients) and we require adequate response\\ntime.  Anyone have any ideas ??  \\n\\n\\n\\n---\\n__/ __/ George Patapis ---------------------PAN METRON ARISTON---------- __/ __/\\n__/ __/ C.S.S.C Lane Cove-----------email:gpatapis@cssc-syd.tansu.com.au __/ __/\\n__/ __/ P.O.Box A792 Sydney South --fax  :(02) 911 3 199---------------- __/ __/\\n__/ __/ NSW, 2000, Australia.-------voice:(02) 911 3 121---------------- __/ __/\\n\\n\\n'"
            ],
            "application/vnd.google.colaboratory.intrinsic+json": {
              "type": "string"
            }
          },
          "metadata": {},
          "execution_count": 28
        }
      ]
    },
    {
      "cell_type": "code",
      "source": [
        "news.target_names"
      ],
      "metadata": {
        "colab": {
          "base_uri": "https://localhost:8080/"
        },
        "id": "D4q5O9MSoePd",
        "outputId": "50ea2c54-e10a-4430-8413-868df770f6b2"
      },
      "execution_count": 29,
      "outputs": [
        {
          "output_type": "execute_result",
          "data": {
            "text/plain": [
              "['comp.graphics',\n",
              " 'comp.windows.x',\n",
              " 'rec.motorcycles',\n",
              " 'rec.sport.baseball',\n",
              " 'sci.electronics',\n",
              " 'sci.med',\n",
              " 'soc.religion.christian',\n",
              " 'talk.politics.mideast']"
            ]
          },
          "metadata": {},
          "execution_count": 29
        }
      ]
    },
    {
      "cell_type": "code",
      "source": [
        "np.unique(news.target,return_counts=True)"
      ],
      "metadata": {
        "colab": {
          "base_uri": "https://localhost:8080/"
        },
        "id": "ThM4tRh9oi7_",
        "outputId": "a02fc8e6-0e79-48f0-bfcd-94942515357b"
      },
      "execution_count": 30,
      "outputs": [
        {
          "output_type": "execute_result",
          "data": {
            "text/plain": [
              "(array([0, 1, 2, 3, 4, 5, 6, 7]),\n",
              " array([973, 988, 996, 994, 984, 990, 997, 940]))"
            ]
          },
          "metadata": {},
          "execution_count": 30
        }
      ]
    },
    {
      "cell_type": "code",
      "source": [
        "model = LatentDirichletAllocation(n_components=8)\n",
        "model.fit(cv_data)\n",
        "model.components_.shape"
      ],
      "metadata": {
        "colab": {
          "base_uri": "https://localhost:8080/"
        },
        "id": "z3HaKZXyo27k",
        "outputId": "d0570d1c-a0fc-4825-8ca4-99f8b78cd28d"
      },
      "execution_count": 31,
      "outputs": [
        {
          "output_type": "execute_result",
          "data": {
            "text/plain": [
              "(8, 1000)"
            ]
          },
          "metadata": {},
          "execution_count": 31
        }
      ]
    },
    {
      "cell_type": "code",
      "source": [
        "fns = cv.get_feature_names_out()\n",
        "no_top = 10\n",
        "for i, topic in enumerate(model.components_):\n",
        "  print('No.', i)\n",
        "  tw_indexes = topic.argsort()[::-1] #역순정렬\n",
        "  top_indexes = tw_indexes[:no_top]\n",
        "  words = [fns[i] for i in top_indexes]\n",
        "  print(words)"
      ],
      "metadata": {
        "colab": {
          "base_uri": "https://localhost:8080/"
        },
        "id": "SL3qKJyfpLnq",
        "outputId": "d17b44fa-5853-4562-fc3b-3a8b2b315006"
      },
      "execution_count": 32,
      "outputs": [
        {
          "output_type": "stream",
          "name": "stdout",
          "text": [
            "No. 0\n",
            "['edu', 'organization', 'posting', 'university', 'host', 'nntp', 'nntp posting', 'posting host', 'cs', 'uk']\n",
            "No. 1\n",
            "['com', 'organization', 'dos', 'windows', 'mit', 'hp', 'window', 'version', 'mit edu', 'thanks']\n",
            "No. 2\n",
            "['organization', 'com', 'edu', 'bike', 'dod', 'posting', 'host', 'nntp posting', 'nntp', 'posting host']\n",
            "No. 3\n",
            "['armenian', 'israel', 'turkish', 'armenians', 'people', 'jews', 'israeli', 'jewish', 'armenia', 'government']\n",
            "No. 4\n",
            "['organization', 'don', 'edu', 'just', 'like', 'good', 'time', 'think', 'know', 'year']\n",
            "No. 5\n",
            "['file', 'image', 'edu', 'graphics', 'use', 'available', 'program', 'ftp', 'jpeg', 'files']\n",
            "No. 6\n",
            "['god', 'people', 'know', 'don', 'think', 'say', 'just', 'like', 'said', 'jesus']\n",
            "No. 7\n",
            "['edu', '1993', '10', 'information', 'medical', 'research', 'health', 'output', '12', 'science']\n"
          ]
        }
      ]
    },
    {
      "cell_type": "code",
      "source": [
        "b_news = fetch_20newsgroups(subset='all',\n",
        "                          remove=('header','footer','quotes'),\n",
        "                          categories=['rec.sport.baseball'])"
      ],
      "metadata": {
        "id": "Q62OSJnkus6f"
      },
      "execution_count": 33,
      "outputs": []
    },
    {
      "cell_type": "code",
      "source": [
        "len(b_news.data)"
      ],
      "metadata": {
        "colab": {
          "base_uri": "https://localhost:8080/"
        },
        "id": "Mq-h1QIbvKyP",
        "outputId": "7014bba3-9425-4f35-d3e6-02bc0d157e2c"
      },
      "execution_count": 35,
      "outputs": [
        {
          "output_type": "execute_result",
          "data": {
            "text/plain": [
              "994"
            ]
          },
          "metadata": {},
          "execution_count": 35
        }
      ]
    },
    {
      "cell_type": "code",
      "source": [
        "bcv = CountVectorizer(max_df=0.95,\n",
        "                     max_features=1000,\n",
        "                     min_df=0.005,\n",
        "                     stop_words='english',\n",
        "                     ngram_range=(1,2))\n",
        "bcv_data = bcv.fit_transform(b_news.data)"
      ],
      "metadata": {
        "id": "eockVHaUqTb4"
      },
      "execution_count": 38,
      "outputs": []
    },
    {
      "cell_type": "code",
      "source": [
        "bmodel = LatentDirichletAllocation(n_components=8)\n",
        "bmodel.fit(bcv_data)\n",
        "bmodel.components_.shape"
      ],
      "metadata": {
        "colab": {
          "base_uri": "https://localhost:8080/"
        },
        "id": "SLCAOz_ouYjc",
        "outputId": "bff77664-6e31-4151-e89c-4e08f1b990ce"
      },
      "execution_count": 39,
      "outputs": [
        {
          "output_type": "execute_result",
          "data": {
            "text/plain": [
              "(8, 1000)"
            ]
          },
          "metadata": {},
          "execution_count": 39
        }
      ]
    },
    {
      "cell_type": "code",
      "source": [
        "fns = bcv.get_feature_names_out()\n",
        "no_top = 10\n",
        "for i, topic in enumerate(bmodel.components_):\n",
        "  print('No.', i)\n",
        "  tw_indexes = topic.argsort()[::-1] #역순정렬\n",
        "  top_indexes = tw_indexes[:no_top]\n",
        "  words = [fns[i] for i in top_indexes]\n",
        "  print(words)"
      ],
      "metadata": {
        "colab": {
          "base_uri": "https://localhost:8080/"
        },
        "id": "pMNc8Rh6uhaQ",
        "outputId": "0e79280e-bce3-47b9-8e7d-dc82151d5a10"
      },
      "execution_count": 40,
      "outputs": [
        {
          "output_type": "stream",
          "name": "stdout",
          "text": [
            "No. 0\n",
            "['edu', 'morris', 'team', 'cs', 'roger', 'year', 'better', 'princeton', 'jays', 'jack']\n",
            "No. 1\n",
            "['com', 'game', 'like', 'ball', 'time', 'think', 'hit', 'home', 'just', 'edu']\n",
            "No. 2\n",
            "['edu', 'nntp', 'posting', 'nntp posting', 'university', 'posting host', 'host', 'organization university', 'jewish', 'edu organization']\n",
            "No. 3\n",
            "['03', '02', '04', '00', 'won', '05', '01', 'lost', 'ibm', 'aix']\n",
            "No. 4\n",
            "['year', 'good', 'league', 'average', '10', 'clutch', 'hit', 'don', 'players', 'season']\n",
            "No. 5\n",
            "['edu', 'university', 'games', 'posting', 'nntp', 'nntp posting', 'host', 'posting host', 'cubs', 'game']\n",
            "No. 6\n",
            "['edu', 'duke', 'gant', 'duke edu', 'university', 'braves', 'uiuc', 'bonds', 'uiuc edu', 'posting host']\n",
            "No. 7\n",
            "['com', 'netcom', 'netcom com', 'mark', 'list', 'mss', 'mss netcom', 'mark singer', 'singer', 'gatech']\n"
          ]
        }
      ]
    }
  ]
}