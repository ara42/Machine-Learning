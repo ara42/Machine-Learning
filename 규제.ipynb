{
  "nbformat": 4,
  "nbformat_minor": 0,
  "metadata": {
    "colab": {
      "provenance": [],
      "mount_file_id": "1uEzaFiEv0oDaottwZGuF4zFL74-zugo-",
      "authorship_tag": "ABX9TyMhklpdmj8RLXlazJdpQCfL",
      "include_colab_link": true
    },
    "kernelspec": {
      "name": "python3",
      "display_name": "Python 3"
    },
    "language_info": {
      "name": "python"
    }
  },
  "cells": [
    {
      "cell_type": "markdown",
      "metadata": {
        "id": "view-in-github",
        "colab_type": "text"
      },
      "source": [
        "<a href=\"https://colab.research.google.com/github/ara42/Machine-Learning/blob/main/%EA%B7%9C%EC%A0%9C.ipynb\" target=\"_parent\"><img src=\"https://colab.research.google.com/assets/colab-badge.svg\" alt=\"Open In Colab\"/></a>"
      ]
    },
    {
      "cell_type": "code",
      "source": [
        "from sklearn.linear_model import Ridge\n",
        "import numpy as np\n",
        "import pandas as pd\n",
        "import matplotlib.pyplot as plt"
      ],
      "metadata": {
        "id": "eiO_ZL0R15Eo"
      },
      "execution_count": null,
      "outputs": []
    },
    {
      "cell_type": "code",
      "source": [
        "path = '/content/drive/MyDrive/Colab Notebooks/Machine-Learning/boston_house.csv'"
      ],
      "metadata": {
        "id": "P8sQhg4W_y-J"
      },
      "execution_count": null,
      "outputs": []
    },
    {
      "cell_type": "code",
      "source": [
        "df = pd.read_csv(path)\n",
        "data = df.drop('Target',axis=1)\n",
        "label = df['Target']"
      ],
      "metadata": {
        "id": "uuWv2OLdABVY"
      },
      "execution_count": null,
      "outputs": []
    },
    {
      "cell_type": "code",
      "source": [
        "from sklearn.model_selection import train_test_split"
      ],
      "metadata": {
        "id": "ZXmZTYhKAEY1"
      },
      "execution_count": null,
      "outputs": []
    },
    {
      "cell_type": "code",
      "source": [
        "x_train,x_test,y_train,y_test = train_test_split(data,label)"
      ],
      "metadata": {
        "id": "j7Mx9bRRApZT"
      },
      "execution_count": null,
      "outputs": []
    },
    {
      "cell_type": "code",
      "source": [
        "from sklearn.model_selection import cross_val_score"
      ],
      "metadata": {
        "id": "fa6jm0IgA4vw"
      },
      "execution_count": null,
      "outputs": []
    },
    {
      "cell_type": "code",
      "source": [
        "ridge = Ridge()\n",
        "ns = cross_val_score(ridge,data,label,scoring='neg_mean_squared_error',cv=5)\n",
        "rmse = np.sqrt(-1*ns)\n",
        "rmse.mean()"
      ],
      "metadata": {
        "colab": {
          "base_uri": "https://localhost:8080/"
        },
        "id": "y1kdGPM7AuVJ",
        "outputId": "39e8e734-2d53-425e-afe3-826b0282e0b0"
      },
      "execution_count": null,
      "outputs": [
        {
          "output_type": "execute_result",
          "data": {
            "text/plain": [
              "5.6525709656135446"
            ]
          },
          "metadata": {},
          "execution_count": 14
        }
      ]
    },
    {
      "cell_type": "code",
      "source": [
        "ridge = Ridge(alpha=10)\n",
        "ns = cross_val_score(ridge,data,label,scoring='neg_mean_squared_error',cv=5)\n",
        "rmse = np.sqrt(-1*ns)\n",
        "rmse.mean()"
      ],
      "metadata": {
        "colab": {
          "base_uri": "https://localhost:8080/"
        },
        "id": "MAgLxW7hB4_a",
        "outputId": "1175f5bf-c5ee-4bc4-d6d2-6cdb4d2265c3"
      },
      "execution_count": null,
      "outputs": [
        {
          "output_type": "execute_result",
          "data": {
            "text/plain": [
              "5.518166280868967"
            ]
          },
          "metadata": {},
          "execution_count": 15
        }
      ]
    },
    {
      "cell_type": "code",
      "source": [
        "alphas = [0.0001,0.01,0.1,1,2,5,10]\n",
        "for alpha in alphas:\n",
        "    ridge = Ridge(alpha=alpha)\n",
        "    ridge.fit(x_train,y_train)\n",
        "    print(f'{alpha:7.4f} : {ridge.score(x_test,y_test)}')"
      ],
      "metadata": {
        "colab": {
          "base_uri": "https://localhost:8080/"
        },
        "id": "qL1jwLldCzyX",
        "outputId": "bec9acac-9281-48eb-8b7c-1fafcb3d7d2e"
      },
      "execution_count": null,
      "outputs": [
        {
          "output_type": "stream",
          "name": "stdout",
          "text": [
            " 0.0001 : 0.6119210915767934\n",
            " 0.0100 : 0.6117886968773643\n",
            " 0.1000 : 0.6106704265580589\n",
            " 1.0000 : 0.6045719158899983\n",
            " 2.0000 : 0.6023832280200928\n",
            " 5.0000 : 0.6023620590760352\n",
            "10.0000 : 0.6058990530674466\n"
          ]
        }
      ]
    },
    {
      "cell_type": "code",
      "source": [
        "from sklearn.model_selection import GridSearchCV"
      ],
      "metadata": {
        "id": "rsDJR-dUDJXD"
      },
      "execution_count": null,
      "outputs": []
    },
    {
      "cell_type": "code",
      "source": [
        "params = {\n",
        "    'alpha' : [0.0001,0.01,0.1,1,2,5,10]\n",
        "}"
      ],
      "metadata": {
        "id": "JM7TlCMaDeSO"
      },
      "execution_count": null,
      "outputs": []
    },
    {
      "cell_type": "code",
      "source": [
        "ridge = Ridge()\n",
        "gs = GridSearchCV(ridge,param_grid=params,scoring='r2')\n",
        "gs.fit(x_train,y_train)\n",
        "print(gs.best_params_)"
      ],
      "metadata": {
        "colab": {
          "base_uri": "https://localhost:8080/"
        },
        "id": "Am0pGi-IDnzU",
        "outputId": "748884b1-fbcc-4943-dee7-6ac02a695fc4"
      },
      "execution_count": null,
      "outputs": [
        {
          "output_type": "stream",
          "name": "stdout",
          "text": [
            "{'alpha': 0.1}\n"
          ]
        }
      ]
    },
    {
      "cell_type": "code",
      "source": [
        "ridge = Ridge(alpha=0.1)\n",
        "ridge.fit(x_train,y_train)\n",
        "pred = ridge.predict(x_test)\n",
        "ridge.score(x_test,y_test)"
      ],
      "metadata": {
        "colab": {
          "base_uri": "https://localhost:8080/"
        },
        "id": "2JspX5UrEDPx",
        "outputId": "677b9c2a-afc9-42e5-bfa5-b4fd50c45293"
      },
      "execution_count": null,
      "outputs": [
        {
          "output_type": "execute_result",
          "data": {
            "text/plain": [
              "0.6106704265580589"
            ]
          },
          "metadata": {},
          "execution_count": 20
        }
      ]
    },
    {
      "cell_type": "code",
      "source": [
        "model = gs.best_estimator_\n",
        "pred = model.predict(x_test)\n",
        "model.score(x_test,y_test)"
      ],
      "metadata": {
        "colab": {
          "base_uri": "https://localhost:8080/"
        },
        "id": "thw3FN7yEcwK",
        "outputId": "dffbcf60-0177-46f2-968c-6f98813ed8e3"
      },
      "execution_count": null,
      "outputs": [
        {
          "output_type": "execute_result",
          "data": {
            "text/plain": [
              "0.6106704265580589"
            ]
          },
          "metadata": {},
          "execution_count": 21
        }
      ]
    },
    {
      "cell_type": "code",
      "source": [
        "alphas = [0.0001,0.01,0.1,1,2,5,10]\n",
        "for alpha in alphas:\n",
        "    ridge = Ridge(alpha=alpha)\n",
        "    ridge.fit(x_train,y_train)\n",
        "    sc = cross_val_score(ridge,x_train,y_train,cv=5)\n",
        "    print(f'{alpha:7.4f}', np.mean(sc))"
      ],
      "metadata": {
        "colab": {
          "base_uri": "https://localhost:8080/"
        },
        "id": "auC2GPlIE07y",
        "outputId": "6ecf7260-d483-4e8e-f19f-25425ccfd56d"
      },
      "execution_count": null,
      "outputs": [
        {
          "output_type": "stream",
          "name": "stdout",
          "text": [
            " 0.0001 0.7494452708203426\n",
            " 0.0100 0.7494585126208188\n",
            " 0.1000 0.7495115228782773\n",
            " 1.0000 0.748395474399264\n",
            " 2.0000 0.747405104397415\n",
            " 5.0000 0.7461067258039479\n",
            "10.0000 0.7446877112421917\n"
          ]
        }
      ]
    },
    {
      "cell_type": "code",
      "source": [
        "import seaborn as sns\n",
        "alphas = [0,0.0001,0.01,0.1,1,2,5,10]\n",
        "rdf = pd.DataFrame()\n",
        "_,axs = plt.subplots(nrows=2,ncols=4,figsize=(15,8))\n",
        "for i,alpha in enumerate(alphas):\n",
        "  nr = int(i/4)\n",
        "  nc = i%4\n",
        "  ridge = Ridge(alpha=alpha)\n",
        "  ridge.fit(x_train,y_train)\n",
        "  cs = pd.Series(ridge.coef_,index=data.columns)\n",
        "  rdf[str(alpha)] = cs\n",
        "  sns.barplot(x=cs.values,y=cs.index,ax=axs[nr][nc])\n",
        "  axs[nr][nc].set_title(str(alpha))\n",
        "plt.show()"
      ],
      "metadata": {
        "colab": {
          "base_uri": "https://localhost:8080/",
          "height": 422
        },
        "id": "NfpCw72jGTNi",
        "outputId": "d2e08084-6f21-4710-af57-fc97971e2ebf"
      },
      "execution_count": null,
      "outputs": [
        {
          "output_type": "display_data",
          "data": {
            "text/plain": [
              "<Figure size 1500x800 with 8 Axes>"
            ],
            "image/png": "[encoded data removed]"
          },
          "metadata": {}
        }
      ]
    },
    {
      "cell_type": "code",
      "source": [
        "from sklearn.preprocessing import StandardScaler"
      ],
      "metadata": {
        "id": "vEwhxPSHIA22"
      },
      "execution_count": null,
      "outputs": []
    },
    {
      "cell_type": "code",
      "source": [
        "ss = StandardScaler()\n",
        "ss.fit(data)\n",
        "sd = ss.transform(data)\n",
        "x_train,x_test,y_train,y_test = train_test_split(sd,label)"
      ],
      "metadata": {
        "id": "vlVvvXCQJV9_"
      },
      "execution_count": null,
      "outputs": []
    },
    {
      "cell_type": "code",
      "source": [
        "alphas = [0,0.0001,0.01,0.1,1,2,5,10]\n",
        "rdf = pd.DataFrame()\n",
        "_,axs = plt.subplots(nrows=2,ncols=4,figsize=(15,8))\n",
        "for i,alpha in enumerate(alphas):\n",
        "  nr = int(i/4)\n",
        "  nc = i%4\n",
        "  ridge = Ridge(alpha=alpha)\n",
        "  ridge.fit(x_train,y_train)\n",
        "  cs = pd.Series(ridge.coef_,index=data.columns)\n",
        "  rdf[str(alpha)] = cs\n",
        "  sns.barplot(x=cs.values,y=cs.index,ax=axs[nr][nc])\n",
        "  axs[nr][nc].set_title(str(alpha))\n",
        "plt.show()"
      ],
      "metadata": {
        "colab": {
          "base_uri": "https://localhost:8080/",
          "height": 422
        },
        "id": "vueuVjm2Jc5r",
        "outputId": "1ebc2f3b-3cb6-43ad-fd1b-26610555998e"
      },
      "execution_count": null,
      "outputs": [
        {
          "output_type": "display_data",
          "data": {
            "text/plain": [
              "<Figure size 1500x800 with 8 Axes>"
            ],
            "image/png": "[encoded data removed]"
          },
          "metadata": {}
        }
      ]
    },
    {
      "cell_type": "code",
      "source": [
        "from sklearn.linear_model import Lasso, ElasticNet"
      ],
      "metadata": {
        "id": "pNkc-RMvgHSA"
      },
      "execution_count": null,
      "outputs": []
    },
    {
      "cell_type": "code",
      "source": [
        "alphas = [0.0001,0.01,0.1,1,2,5,10]\n",
        "\n",
        "print(\"\\n===========Ridge============\")\n",
        "for alpha in alphas:\n",
        "    model = Ridge(alpha=alpha)\n",
        "    sc = cross_val_score(model,x_train,y_train,cv=5)\n",
        "    print(f'{alpha:7.4f}',np.mean(sc))\n",
        "\n",
        "print(\"\\n===========Lasso============\")\n",
        "for alpha in alphas:\n",
        "    model = Lasso(alpha=alpha)\n",
        "    sc = cross_val_score(model,x_train,y_train,cv=5)\n",
        "    print(f'{alpha:7.4f}',np.mean(sc))\n",
        "\n",
        "print(\"\\n=========ElasticNet==========\")\n",
        "for alpha in alphas:\n",
        "    model = ElasticNet(alpha=alpha)\n",
        "    sc = cross_val_score(model,x_train,y_train,cv=5)\n",
        "    print(f'{alpha:7.4f}',np.mean(sc))"
      ],
      "metadata": {
        "colab": {
          "base_uri": "https://localhost:8080/"
        },
        "id": "qGhxFuiNJgSC",
        "outputId": "762ade8a-d369-44bb-cbc8-fcfa2fef88e2"
      },
      "execution_count": null,
      "outputs": [
        {
          "output_type": "stream",
          "name": "stdout",
          "text": [
            "\n",
            "===========Ridge============\n",
            " 0.0001 0.7018511682808923\n",
            " 0.0100 0.7018571070012104\n",
            " 0.1000 0.7019105074908703\n",
            " 1.0000 0.7023903417590953\n",
            " 2.0000 0.7028230758033821\n",
            " 5.0000 0.703657935111972\n",
            "10.0000 0.7041030685752382\n",
            "\n",
            "===========Lasso============\n",
            " 0.0001 0.701859126923926\n",
            " 0.0100 0.7024563198895536\n",
            " 0.1000 0.6993781398932382\n",
            " 1.0000 0.6394646965918707\n",
            " 2.0000 0.5748597349031964\n",
            " 5.0000 0.23622064992554156\n",
            "10.0000 -0.005868784757900247\n",
            "\n",
            "=========ElasticNet==========\n",
            " 0.0001 0.7018641782134779\n",
            " 0.0100 0.7028537523517885\n",
            " 0.1000 0.7009986149982662\n",
            " 1.0000 0.6238913168229165\n",
            " 2.0000 0.5455203167166344\n",
            " 5.0000 0.3038977639633524\n",
            "10.0000 0.058128190825813844\n"
          ]
        }
      ]
    },
    {
      "cell_type": "code",
      "source": [
        "alphas = [0.0001,0.01,0.1,1,2,5,10]\n",
        "\n",
        "print(\"\\n===========Ridge============\")\n",
        "for alpha in alphas:\n",
        "    model = Ridge(alpha=alpha)\n",
        "    model.fit(x_train,y_train)\n",
        "    print(f'{alpha:7.4f}',model.coef_)\n",
        "\n",
        "print(\"\\n===========Lasso============\")\n",
        "for alpha in alphas:\n",
        "    model = Lasso(alpha=alpha)\n",
        "    model.fit(x_train,y_train)\n",
        "    print(f'{alpha:7.4f}',model.coef_)\n",
        "\n",
        "print(\"\\n=========ElasticNet==========\")\n",
        "for alpha in alphas:\n",
        "    model = ElasticNet(alpha=alpha)\n",
        "    model.fit(x_train,y_train)\n",
        "    print(f'{alpha:7.4f}',model.coef_)"
      ],
      "metadata": {
        "colab": {
          "base_uri": "https://localhost:8080/"
        },
        "id": "2uGe_5rWhO-2",
        "outputId": "7643e01c-4f4b-4208-9455-32e1fb006b94"
      },
      "execution_count": null,
      "outputs": [
        {
          "output_type": "stream",
          "name": "stdout",
          "text": [
            "\n",
            "===========Ridge============\n",
            " 0.0001 [-0.23824318  1.01382925  3.00554356 -0.91728761 -3.16814186  0.19956511\n",
            " -3.23566669 -2.12283164 -1.96345094  2.73875037  1.05273655 -2.07453679\n",
            "  0.37248972]\n",
            " 0.0100 [-0.2382858   1.01382599  3.0056063  -0.91718193 -3.16774032  0.19920894\n",
            " -3.23554706 -2.12244986 -1.96336309  2.73778485  1.05250522 -2.07358044\n",
            "  0.3725534 ]\n",
            " 0.1000 [-0.23867159  1.01379608  3.00617359 -0.91622415 -3.16409527  0.19598563\n",
            " -3.23446109 -2.1189868  -1.96256598  2.72904183  1.05040891 -2.06492498\n",
            "  0.37313001]\n",
            " 1.0000 [-0.24236764  1.01346938  3.01155152 -0.90692887 -3.12816067  0.16514086\n",
            " -3.22374607 -2.08509632 -1.95474942  2.64489065  1.03008017 -1.98203836\n",
            "  0.37868049]\n",
            " 2.0000 [-0.24615466  1.01304892  3.01693638 -0.8971637  -3.08929879  0.13359573\n",
            " -3.21213122 -2.04894021 -1.94637326  2.5578516   1.00875658 -1.89715197\n",
            "  0.38442317]\n",
            " 5.0000 [-0.25582585  1.01144849  3.02986836 -0.87090904 -2.97894878  0.05318206\n",
            " -3.17888866 -1.94889458 -1.92292683  2.33072355  0.95160977 -1.68016537\n",
            "  0.399424  ]\n",
            "10.0000 [-0.26776217  1.00779376  3.04298357 -0.83499324 -2.81325135 -0.04639262\n",
            " -3.12777945 -1.80527044 -1.88825374  2.03583879  0.87394801 -1.41010767\n",
            "  0.41896043]\n",
            "\n",
            "===========Lasso============\n",
            " 0.0001 [-0.23804391  1.01374471  3.0055748  -0.91705049 -3.16751865  0.19856122\n",
            " -3.23568441 -2.12218687 -1.9632947   2.73701985  1.05226125 -2.07270141\n",
            "  0.37249736]\n",
            " 0.0100 [-0.21855843  1.00551699  3.0089478  -0.89367713 -3.10474827  0.09856384\n",
            " -3.23720849 -2.05726811 -1.94771251  2.56549985  1.00458815 -1.8904769\n",
            "  0.37328335]\n",
            " 0.1000 [-0.06121982  0.93727995  3.10637359 -0.66586537 -2.38252669 -0.\n",
            " -3.2618173  -1.69874187 -1.87280512  1.32501958  0.64193041 -0.80176161\n",
            "  0.33278016]\n",
            " 1.0000 [-0.          0.37741288  2.83549275 -0.         -0.         -0.\n",
            " -3.21750752 -0.         -1.18535512 -0.          0.         -0.\n",
            "  0.        ]\n",
            " 2.0000 [-0.          0.          2.18026422 -0.          0.         -0.\n",
            " -3.02438992 -0.         -0.53377439 -0.          0.         -0.\n",
            "  0.        ]\n",
            " 5.0000 [-0.          0.          0.19591225 -0.          0.         -0.\n",
            " -1.47638832 -0.         -0.         -0.          0.         -0.\n",
            "  0.        ]\n",
            "10.0000 [-0.  0.  0. -0.  0. -0. -0. -0. -0. -0.  0. -0.  0.]\n",
            "\n",
            "=========ElasticNet==========\n",
            " 0.0001 [-0.23822811  1.01378225  3.00568177 -0.91696926 -3.167059    0.19838336\n",
            " -3.23544473 -2.12177427 -1.96320438  2.73605044  1.05205509 -2.07180081\n",
            "  0.37261466]\n",
            " 0.0100 [-0.23611859  1.00902677  3.01793552 -0.88697838 -3.06233333  0.08936093\n",
            " -3.21390927 -2.02092655 -1.93958862  2.48671669  0.98800577 -1.82130277\n",
            "  0.38383387]\n",
            " 0.1000 [-0.20317311  0.96146492  3.07554058 -0.69427219 -2.25444024 -0.16369534\n",
            " -3.05534897 -1.45403777 -1.7988132   1.24170857  0.6333327  -0.76509328\n",
            "  0.41039866]\n",
            " 1.0000 [-0.          0.56803257  2.36334036 -0.39366169 -0.         -0.24317406\n",
            " -2.17507984 -0.33035789 -1.22073736 -0.          0.02413431 -0.1824896\n",
            "  0.17602994]\n",
            " 2.0000 [-0.06166557  0.33940074  1.72964688 -0.33429106  0.         -0.29579396\n",
            " -1.67491042 -0.26985115 -0.87388452 -0.          0.0349013  -0.24085837\n",
            "  0.        ]\n",
            " 5.0000 [-0.          0.          0.80872131 -0.10703423  0.         -0.17325025\n",
            " -0.90590329 -0.1066563  -0.3249812  -0.          0.         -0.1193632\n",
            "  0.        ]\n",
            "10.0000 [-0.          0.          0.16193384 -0.          0.         -0.\n",
            " -0.24797313 -0.         -0.         -0.          0.         -0.\n",
            "  0.        ]\n"
          ]
        }
      ]
    },
    {
      "cell_type": "code",
      "source": [],
      "metadata": {
        "id": "JDkyT4P5h3w3"
      },
      "execution_count": null,
      "outputs": []
    }
  ]
}